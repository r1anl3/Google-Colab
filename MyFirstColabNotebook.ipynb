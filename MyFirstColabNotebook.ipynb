{
  "nbformat": 4,
  "nbformat_minor": 0,
  "metadata": {
    "colab": {
      "provenance": [],
      "collapsed_sections": [],
      "include_colab_link": true
    },
    "kernelspec": {
      "name": "python3",
      "display_name": "Python 3"
    },
    "language_info": {
      "name": "python"
    }
  },
  "cells": [
    {
      "cell_type": "markdown",
      "metadata": {
        "id": "view-in-github",
        "colab_type": "text"
      },
      "source": [
        "<a href=\"https://colab.research.google.com/github/tuitenrein/Google-Colab/blob/main/MyFirstColabNotebook.ipynb\" target=\"_parent\"><img src=\"https://colab.research.google.com/assets/colab-badge.svg\" alt=\"Open In Colab\"/></a>"
      ]
    },
    {
      "cell_type": "code",
      "execution_count": null,
      "metadata": {
        "id": "Okcj32fYhkCG",
        "colab": {
          "base_uri": "https://localhost:8080/"
        },
        "outputId": "34a53571-1b87-4e20-f9e6-713b09e22636"
      },
      "outputs": [
        {
          "output_type": "stream",
          "name": "stdout",
          "text": [
            "Thu Oct 27 08:35:23 2022\n"
          ]
        }
      ],
      "source": [
        "import time\n",
        "print(time.ctime())"
      ]
    },
    {
      "cell_type": "markdown",
      "source": [
        "This is **bold**.\n",
        "This is *Italic*.\n",
        "This is ~strikethrough~."
      ],
      "metadata": {
        "id": "Qp9SH_0ioXag"
      }
    },
    {
      "cell_type": "markdown",
      "source": [
        "$\\sqrt{3x-1}+(1+x)^2$ "
      ],
      "metadata": {
        "id": "kRJEwZbjpZwd"
      }
    },
    {
      "cell_type": "markdown",
      "source": [
        "$e^x = \\sum_{i = 0}^\\infty \\frac{1}{i!}x^i$"
      ],
      "metadata": {
        "id": "X2b09aRUqnOi"
      }
    },
    {
      "cell_type": "code",
      "source": [
        "message = 'A greate tutorial on colab by Tutorialspoint!'\n",
        "greeting = !echo -e $message', '$message\n",
        "greeting"
      ],
      "metadata": {
        "colab": {
          "base_uri": "https://localhost:8080/"
        },
        "id": "Jr43mdCg2uuL",
        "outputId": "6a3b6d24-b48e-4823-ccdb-ef258dab00bb"
      },
      "execution_count": null,
      "outputs": [
        {
          "output_type": "execute_result",
          "data": {
            "text/plain": [
              "['A greate tutorial on colab by Tutorialspoint!, A greate tutorial on colab by Tutorialspoint!']"
            ]
          },
          "metadata": {},
          "execution_count": 2
        }
      ]
    },
    {
      "cell_type": "code",
      "source": [
        "!wget http://mlr.cs.umass.edu/ml/machine-learning-databases/adult/adult.data -P \"/content/drive/My Drive/app\""
      ],
      "metadata": {
        "id": "7zI3phDhoBwg"
      },
      "execution_count": null,
      "outputs": []
    },
    {
      "cell_type": "code",
      "source": [
        "import pandas as pd\n",
        "url = 'https://drive.google.com/file/d/1pxxZblKKLZybywjbanwIb9dXjv83W04P/view?usp=sharing'\n",
        "url= 'https://drive.google.com/uc?id=' + url.split('/')[-2]\n",
        "data = pd.read_csv(url)\n",
        "data.head(5)"
      ],
      "metadata": {
        "colab": {
          "base_uri": "https://localhost:8080/",
          "height": 337
        },
        "id": "yIAbmotGpRzf",
        "outputId": "6feb098a-0695-4c28-ea6c-035bfe65a2f3"
      },
      "execution_count": 13,
      "outputs": [
        {
          "output_type": "execute_result",
          "data": {
            "text/plain": [
              "                                             name rating      genre  year  \\\n",
              "0                                     The Shining      R      Drama  1980   \n",
              "1                                 The Blue Lagoon      R  Adventure  1980   \n",
              "2  Star Wars: Episode V - The Empire Strikes Back     PG     Action  1980   \n",
              "3                                       Airplane!     PG     Comedy  1980   \n",
              "4                                      Caddyshack      R     Comedy  1980   \n",
              "\n",
              "                        released  score      votes         director  \\\n",
              "0  June 13, 1980 (United States)    8.4   927000.0  Stanley Kubrick   \n",
              "1   July 2, 1980 (United States)    5.8    65000.0   Randal Kleiser   \n",
              "2  June 20, 1980 (United States)    8.7  1200000.0   Irvin Kershner   \n",
              "3   July 2, 1980 (United States)    7.7   221000.0     Jim Abrahams   \n",
              "4  July 25, 1980 (United States)    7.3   108000.0     Harold Ramis   \n",
              "\n",
              "                    writer            star         country      budget  \\\n",
              "0             Stephen King  Jack Nicholson  United Kingdom  19000000.0   \n",
              "1  Henry De Vere Stacpoole  Brooke Shields   United States   4500000.0   \n",
              "2           Leigh Brackett     Mark Hamill   United States  18000000.0   \n",
              "3             Jim Abrahams     Robert Hays   United States   3500000.0   \n",
              "4       Brian Doyle-Murray     Chevy Chase   United States   6000000.0   \n",
              "\n",
              "         gross             company  runtime  \n",
              "0   46998772.0        Warner Bros.    146.0  \n",
              "1   58853106.0   Columbia Pictures    104.0  \n",
              "2  538375067.0           Lucasfilm    124.0  \n",
              "3   83453539.0  Paramount Pictures     88.0  \n",
              "4   39846344.0      Orion Pictures     98.0  "
            ],
            "text/html": [
              "\n",
              "  <div id=\"df-e19b68a6-28f1-4a1a-b790-24fcae20db77\">\n",
              "    <div class=\"colab-df-container\">\n",
              "      <div>\n",
              "<style scoped>\n",
              "    .dataframe tbody tr th:only-of-type {\n",
              "        vertical-align: middle;\n",
              "    }\n",
              "\n",
              "    .dataframe tbody tr th {\n",
              "        vertical-align: top;\n",
              "    }\n",
              "\n",
              "    .dataframe thead th {\n",
              "        text-align: right;\n",
              "    }\n",
              "</style>\n",
              "<table border=\"1\" class=\"dataframe\">\n",
              "  <thead>\n",
              "    <tr style=\"text-align: right;\">\n",
              "      <th></th>\n",
              "      <th>name</th>\n",
              "      <th>rating</th>\n",
              "      <th>genre</th>\n",
              "      <th>year</th>\n",
              "      <th>released</th>\n",
              "      <th>score</th>\n",
              "      <th>votes</th>\n",
              "      <th>director</th>\n",
              "      <th>writer</th>\n",
              "      <th>star</th>\n",
              "      <th>country</th>\n",
              "      <th>budget</th>\n",
              "      <th>gross</th>\n",
              "      <th>company</th>\n",
              "      <th>runtime</th>\n",
              "    </tr>\n",
              "  </thead>\n",
              "  <tbody>\n",
              "    <tr>\n",
              "      <th>0</th>\n",
              "      <td>The Shining</td>\n",
              "      <td>R</td>\n",
              "      <td>Drama</td>\n",
              "      <td>1980</td>\n",
              "      <td>June 13, 1980 (United States)</td>\n",
              "      <td>8.4</td>\n",
              "      <td>927000.0</td>\n",
              "      <td>Stanley Kubrick</td>\n",
              "      <td>Stephen King</td>\n",
              "      <td>Jack Nicholson</td>\n",
              "      <td>United Kingdom</td>\n",
              "      <td>19000000.0</td>\n",
              "      <td>46998772.0</td>\n",
              "      <td>Warner Bros.</td>\n",
              "      <td>146.0</td>\n",
              "    </tr>\n",
              "    <tr>\n",
              "      <th>1</th>\n",
              "      <td>The Blue Lagoon</td>\n",
              "      <td>R</td>\n",
              "      <td>Adventure</td>\n",
              "      <td>1980</td>\n",
              "      <td>July 2, 1980 (United States)</td>\n",
              "      <td>5.8</td>\n",
              "      <td>65000.0</td>\n",
              "      <td>Randal Kleiser</td>\n",
              "      <td>Henry De Vere Stacpoole</td>\n",
              "      <td>Brooke Shields</td>\n",
              "      <td>United States</td>\n",
              "      <td>4500000.0</td>\n",
              "      <td>58853106.0</td>\n",
              "      <td>Columbia Pictures</td>\n",
              "      <td>104.0</td>\n",
              "    </tr>\n",
              "    <tr>\n",
              "      <th>2</th>\n",
              "      <td>Star Wars: Episode V - The Empire Strikes Back</td>\n",
              "      <td>PG</td>\n",
              "      <td>Action</td>\n",
              "      <td>1980</td>\n",
              "      <td>June 20, 1980 (United States)</td>\n",
              "      <td>8.7</td>\n",
              "      <td>1200000.0</td>\n",
              "      <td>Irvin Kershner</td>\n",
              "      <td>Leigh Brackett</td>\n",
              "      <td>Mark Hamill</td>\n",
              "      <td>United States</td>\n",
              "      <td>18000000.0</td>\n",
              "      <td>538375067.0</td>\n",
              "      <td>Lucasfilm</td>\n",
              "      <td>124.0</td>\n",
              "    </tr>\n",
              "    <tr>\n",
              "      <th>3</th>\n",
              "      <td>Airplane!</td>\n",
              "      <td>PG</td>\n",
              "      <td>Comedy</td>\n",
              "      <td>1980</td>\n",
              "      <td>July 2, 1980 (United States)</td>\n",
              "      <td>7.7</td>\n",
              "      <td>221000.0</td>\n",
              "      <td>Jim Abrahams</td>\n",
              "      <td>Jim Abrahams</td>\n",
              "      <td>Robert Hays</td>\n",
              "      <td>United States</td>\n",
              "      <td>3500000.0</td>\n",
              "      <td>83453539.0</td>\n",
              "      <td>Paramount Pictures</td>\n",
              "      <td>88.0</td>\n",
              "    </tr>\n",
              "    <tr>\n",
              "      <th>4</th>\n",
              "      <td>Caddyshack</td>\n",
              "      <td>R</td>\n",
              "      <td>Comedy</td>\n",
              "      <td>1980</td>\n",
              "      <td>July 25, 1980 (United States)</td>\n",
              "      <td>7.3</td>\n",
              "      <td>108000.0</td>\n",
              "      <td>Harold Ramis</td>\n",
              "      <td>Brian Doyle-Murray</td>\n",
              "      <td>Chevy Chase</td>\n",
              "      <td>United States</td>\n",
              "      <td>6000000.0</td>\n",
              "      <td>39846344.0</td>\n",
              "      <td>Orion Pictures</td>\n",
              "      <td>98.0</td>\n",
              "    </tr>\n",
              "  </tbody>\n",
              "</table>\n",
              "</div>\n",
              "      <button class=\"colab-df-convert\" onclick=\"convertToInteractive('df-e19b68a6-28f1-4a1a-b790-24fcae20db77')\"\n",
              "              title=\"Convert this dataframe to an interactive table.\"\n",
              "              style=\"display:none;\">\n",
              "        \n",
              "  <svg xmlns=\"http://www.w3.org/2000/svg\" height=\"24px\"viewBox=\"0 0 24 24\"\n",
              "       width=\"24px\">\n",
              "    <path d=\"M0 0h24v24H0V0z\" fill=\"none\"/>\n",
              "    <path d=\"M18.56 5.44l.94 2.06.94-2.06 2.06-.94-2.06-.94-.94-2.06-.94 2.06-2.06.94zm-11 1L8.5 8.5l.94-2.06 2.06-.94-2.06-.94L8.5 2.5l-.94 2.06-2.06.94zm10 10l.94 2.06.94-2.06 2.06-.94-2.06-.94-.94-2.06-.94 2.06-2.06.94z\"/><path d=\"M17.41 7.96l-1.37-1.37c-.4-.4-.92-.59-1.43-.59-.52 0-1.04.2-1.43.59L10.3 9.45l-7.72 7.72c-.78.78-.78 2.05 0 2.83L4 21.41c.39.39.9.59 1.41.59.51 0 1.02-.2 1.41-.59l7.78-7.78 2.81-2.81c.8-.78.8-2.07 0-2.86zM5.41 20L4 18.59l7.72-7.72 1.47 1.35L5.41 20z\"/>\n",
              "  </svg>\n",
              "      </button>\n",
              "      \n",
              "  <style>\n",
              "    .colab-df-container {\n",
              "      display:flex;\n",
              "      flex-wrap:wrap;\n",
              "      gap: 12px;\n",
              "    }\n",
              "\n",
              "    .colab-df-convert {\n",
              "      background-color: #E8F0FE;\n",
              "      border: none;\n",
              "      border-radius: 50%;\n",
              "      cursor: pointer;\n",
              "      display: none;\n",
              "      fill: #1967D2;\n",
              "      height: 32px;\n",
              "      padding: 0 0 0 0;\n",
              "      width: 32px;\n",
              "    }\n",
              "\n",
              "    .colab-df-convert:hover {\n",
              "      background-color: #E2EBFA;\n",
              "      box-shadow: 0px 1px 2px rgba(60, 64, 67, 0.3), 0px 1px 3px 1px rgba(60, 64, 67, 0.15);\n",
              "      fill: #174EA6;\n",
              "    }\n",
              "\n",
              "    [theme=dark] .colab-df-convert {\n",
              "      background-color: #3B4455;\n",
              "      fill: #D2E3FC;\n",
              "    }\n",
              "\n",
              "    [theme=dark] .colab-df-convert:hover {\n",
              "      background-color: #434B5C;\n",
              "      box-shadow: 0px 1px 3px 1px rgba(0, 0, 0, 0.15);\n",
              "      filter: drop-shadow(0px 1px 2px rgba(0, 0, 0, 0.3));\n",
              "      fill: #FFFFFF;\n",
              "    }\n",
              "  </style>\n",
              "\n",
              "      <script>\n",
              "        const buttonEl =\n",
              "          document.querySelector('#df-e19b68a6-28f1-4a1a-b790-24fcae20db77 button.colab-df-convert');\n",
              "        buttonEl.style.display =\n",
              "          google.colab.kernel.accessAllowed ? 'block' : 'none';\n",
              "\n",
              "        async function convertToInteractive(key) {\n",
              "          const element = document.querySelector('#df-e19b68a6-28f1-4a1a-b790-24fcae20db77');\n",
              "          const dataTable =\n",
              "            await google.colab.kernel.invokeFunction('convertToInteractive',\n",
              "                                                     [key], {});\n",
              "          if (!dataTable) return;\n",
              "\n",
              "          const docLinkHtml = 'Like what you see? Visit the ' +\n",
              "            '<a target=\"_blank\" href=https://colab.research.google.com/notebooks/data_table.ipynb>data table notebook</a>'\n",
              "            + ' to learn more about interactive tables.';\n",
              "          element.innerHTML = '';\n",
              "          dataTable['output_type'] = 'display_data';\n",
              "          await google.colab.output.renderOutput(dataTable, element);\n",
              "          const docLink = document.createElement('div');\n",
              "          docLink.innerHTML = docLinkHtml;\n",
              "          element.appendChild(docLink);\n",
              "        }\n",
              "      </script>\n",
              "    </div>\n",
              "  </div>\n",
              "  "
            ]
          },
          "metadata": {},
          "execution_count": 13
        }
      ]
    }
  ]
}