{
  "nbformat": 4,
  "nbformat_minor": 0,
  "metadata": {
    "colab": {
      "provenance": [],
      "mount_file_id": "1-nVC2vHhVe7tj-pDzNNmvsAJVQr4UVVV",
      "authorship_tag": "ABX9TyMAOji0D9mJVg9RlvIMHth/",
      "include_colab_link": true
    },
    "kernelspec": {
      "name": "python3",
      "display_name": "Python 3"
    },
    "language_info": {
      "name": "python"
    },
    "gpuClass": "standard",
    "accelerator": "GPU"
  },
  "cells": [
    {
      "cell_type": "markdown",
      "metadata": {
        "id": "view-in-github",
        "colab_type": "text"
      },
      "source": [
        "<a href=\"https://colab.research.google.com/github/tuitenrein/Google-Colab/blob/main/IEC_Task_3.ipynb\" target=\"_parent\"><img src=\"https://colab.research.google.com/assets/colab-badge.svg\" alt=\"Open In Colab\"/></a>"
      ]
    },
    {
      "cell_type": "code",
      "execution_count": null,
      "metadata": {
        "colab": {
          "base_uri": "https://localhost:8080/",
          "height": 869
        },
        "id": "VPu8IVsog7Qp",
        "outputId": "5f62cd64-de80-447a-b4a8-44890a57ab8c"
      },
      "outputs": [
        {
          "output_type": "execute_result",
          "data": {
            "text/plain": [
              "       Unnamed: 0                                  Flow ID       Source IP  \\\n",
              "0            3220  10.42.0.211-123.125.115.164-48687-443-6     10.42.0.211   \n",
              "1         1052120     10.42.0.42-58.63.236.212-53777-443-6      10.42.0.42   \n",
              "2         1299883   183.79.250.251-10.42.0.211-443-54369-6     10.42.0.211   \n",
              "3          717454   10.42.0.151-104.244.43.227-53259-443-6     10.42.0.151   \n",
              "4          129803        10.42.0.211-10.42.0.1-61002-53-17     10.42.0.211   \n",
              "...           ...                                      ...             ...   \n",
              "77904      800989         10.42.0.1-10.42.0.42-53-35386-17      10.42.0.42   \n",
              "77905      808707      10.42.0.42-64.71.142.95-45060-443-6      10.42.0.42   \n",
              "77906      748781    10.42.0.42-104.112.242.202-33285-80-6      10.42.0.42   \n",
              "77907     1119914    172.217.10.138-10.42.0.42-443-58098-6  172.217.10.138   \n",
              "77908     1328013     172.217.9.226-10.42.0.42-443-34266-6      10.42.0.42   \n",
              "\n",
              "       Source Port   Destination IP  Destination Port  Protocol  \\\n",
              "0          48687.0  123.125.115.164             443.0       6.0   \n",
              "1          53777.0    58.63.236.212             443.0       6.0   \n",
              "2          54369.0   183.79.250.251             443.0       6.0   \n",
              "3          53259.0   104.244.43.227             443.0       6.0   \n",
              "4          61002.0        10.42.0.1              53.0      17.0   \n",
              "...            ...              ...               ...       ...   \n",
              "77904      35386.0        10.42.0.1              53.0      17.0   \n",
              "77905      45060.0     64.71.142.95             443.0       6.0   \n",
              "77906      33285.0  104.112.242.202              80.0       6.0   \n",
              "77907        443.0       10.42.0.42           58098.0       6.0   \n",
              "77908      34266.0    172.217.9.226             443.0       6.0   \n",
              "\n",
              "                 Timestamp  Flow Duration  Total Fwd Packets  ...  \\\n",
              "0      05/08/2017 04:58:37      4699333.0                3.0  ...   \n",
              "1      30/06/2017 07:37:35     30602670.0                2.0  ...   \n",
              "2      04/08/2017 05:54:13     11036953.0               11.0  ...   \n",
              "3      05/07/2017 05:44:09      3815335.0                3.0  ...   \n",
              "4      05/08/2017 04:47:07       510550.0                1.0  ...   \n",
              "...                    ...            ...                ...  ...   \n",
              "77904  17/08/2017 11:48:01        49480.0                1.0  ...   \n",
              "77905  17/08/2017 11:48:52     30150466.0                6.0  ...   \n",
              "77906  17/08/2017 11:24:13       100144.0                5.0  ...   \n",
              "77907  16/08/2017 04:05:51           20.0                2.0  ...   \n",
              "77908  18/08/2017 11:52:39      5589811.0               18.0  ...   \n",
              "\n",
              "       min_seg_size_forward  Active Mean  Active Std  Active Max  Active Min  \\\n",
              "0                      20.0          0.0         0.0         0.0         0.0   \n",
              "1                      20.0          0.0         0.0         0.0         0.0   \n",
              "2                      32.0     897540.0         0.0    897540.0    897540.0   \n",
              "3                      32.0          0.0         0.0         0.0         0.0   \n",
              "4                      20.0          0.0         0.0         0.0         0.0   \n",
              "...                     ...          ...         ...         ...         ...   \n",
              "77904                  32.0          0.0         0.0         0.0         0.0   \n",
              "77905                  20.0     294812.0         0.0    294812.0    294812.0   \n",
              "77906                  32.0          0.0         0.0         0.0         0.0   \n",
              "77907                  32.0          0.0         0.0         0.0         0.0   \n",
              "77908                  32.0          0.0         0.0         0.0         0.0   \n",
              "\n",
              "        Idle Mean  Idle Std    Idle Max    Idle Min  Label  \n",
              "0             0.0       0.0         0.0         0.0      0  \n",
              "1             0.0       0.0         0.0         0.0      0  \n",
              "2      10139356.0       0.0  10139356.0  10139356.0      0  \n",
              "3             0.0       0.0         0.0         0.0      0  \n",
              "4             0.0       0.0         0.0         0.0      0  \n",
              "...           ...       ...         ...         ...    ...  \n",
              "77904         0.0       0.0         0.0         0.0     12  \n",
              "77905  29855632.0       0.0  29855632.0  29855632.0     12  \n",
              "77906         0.0       0.0         0.0         0.0     12  \n",
              "77907         0.0       0.0         0.0         0.0     12  \n",
              "77908         0.0       0.0         0.0         0.0     12  \n",
              "\n",
              "[77909 rows x 86 columns]"
            ],
            "text/html": [
              "\n",
              "  <div id=\"df-c6b6e9be-b19f-4b3b-aea8-c6734a6e5779\">\n",
              "    <div class=\"colab-df-container\">\n",
              "      <div>\n",
              "<style scoped>\n",
              "    .dataframe tbody tr th:only-of-type {\n",
              "        vertical-align: middle;\n",
              "    }\n",
              "\n",
              "    .dataframe tbody tr th {\n",
              "        vertical-align: top;\n",
              "    }\n",
              "\n",
              "    .dataframe thead th {\n",
              "        text-align: right;\n",
              "    }\n",
              "</style>\n",
              "<table border=\"1\" class=\"dataframe\">\n",
              "  <thead>\n",
              "    <tr style=\"text-align: right;\">\n",
              "      <th></th>\n",
              "      <th>Unnamed: 0</th>\n",
              "      <th>Flow ID</th>\n",
              "      <th>Source IP</th>\n",
              "      <th>Source Port</th>\n",
              "      <th>Destination IP</th>\n",
              "      <th>Destination Port</th>\n",
              "      <th>Protocol</th>\n",
              "      <th>Timestamp</th>\n",
              "      <th>Flow Duration</th>\n",
              "      <th>Total Fwd Packets</th>\n",
              "      <th>...</th>\n",
              "      <th>min_seg_size_forward</th>\n",
              "      <th>Active Mean</th>\n",
              "      <th>Active Std</th>\n",
              "      <th>Active Max</th>\n",
              "      <th>Active Min</th>\n",
              "      <th>Idle Mean</th>\n",
              "      <th>Idle Std</th>\n",
              "      <th>Idle Max</th>\n",
              "      <th>Idle Min</th>\n",
              "      <th>Label</th>\n",
              "    </tr>\n",
              "  </thead>\n",
              "  <tbody>\n",
              "    <tr>\n",
              "      <th>0</th>\n",
              "      <td>3220</td>\n",
              "      <td>10.42.0.211-123.125.115.164-48687-443-6</td>\n",
              "      <td>10.42.0.211</td>\n",
              "      <td>48687.0</td>\n",
              "      <td>123.125.115.164</td>\n",
              "      <td>443.0</td>\n",
              "      <td>6.0</td>\n",
              "      <td>05/08/2017 04:58:37</td>\n",
              "      <td>4699333.0</td>\n",
              "      <td>3.0</td>\n",
              "      <td>...</td>\n",
              "      <td>20.0</td>\n",
              "      <td>0.0</td>\n",
              "      <td>0.0</td>\n",
              "      <td>0.0</td>\n",
              "      <td>0.0</td>\n",
              "      <td>0.0</td>\n",
              "      <td>0.0</td>\n",
              "      <td>0.0</td>\n",
              "      <td>0.0</td>\n",
              "      <td>0</td>\n",
              "    </tr>\n",
              "    <tr>\n",
              "      <th>1</th>\n",
              "      <td>1052120</td>\n",
              "      <td>10.42.0.42-58.63.236.212-53777-443-6</td>\n",
              "      <td>10.42.0.42</td>\n",
              "      <td>53777.0</td>\n",
              "      <td>58.63.236.212</td>\n",
              "      <td>443.0</td>\n",
              "      <td>6.0</td>\n",
              "      <td>30/06/2017 07:37:35</td>\n",
              "      <td>30602670.0</td>\n",
              "      <td>2.0</td>\n",
              "      <td>...</td>\n",
              "      <td>20.0</td>\n",
              "      <td>0.0</td>\n",
              "      <td>0.0</td>\n",
              "      <td>0.0</td>\n",
              "      <td>0.0</td>\n",
              "      <td>0.0</td>\n",
              "      <td>0.0</td>\n",
              "      <td>0.0</td>\n",
              "      <td>0.0</td>\n",
              "      <td>0</td>\n",
              "    </tr>\n",
              "    <tr>\n",
              "      <th>2</th>\n",
              "      <td>1299883</td>\n",
              "      <td>183.79.250.251-10.42.0.211-443-54369-6</td>\n",
              "      <td>10.42.0.211</td>\n",
              "      <td>54369.0</td>\n",
              "      <td>183.79.250.251</td>\n",
              "      <td>443.0</td>\n",
              "      <td>6.0</td>\n",
              "      <td>04/08/2017 05:54:13</td>\n",
              "      <td>11036953.0</td>\n",
              "      <td>11.0</td>\n",
              "      <td>...</td>\n",
              "      <td>32.0</td>\n",
              "      <td>897540.0</td>\n",
              "      <td>0.0</td>\n",
              "      <td>897540.0</td>\n",
              "      <td>897540.0</td>\n",
              "      <td>10139356.0</td>\n",
              "      <td>0.0</td>\n",
              "      <td>10139356.0</td>\n",
              "      <td>10139356.0</td>\n",
              "      <td>0</td>\n",
              "    </tr>\n",
              "    <tr>\n",
              "      <th>3</th>\n",
              "      <td>717454</td>\n",
              "      <td>10.42.0.151-104.244.43.227-53259-443-6</td>\n",
              "      <td>10.42.0.151</td>\n",
              "      <td>53259.0</td>\n",
              "      <td>104.244.43.227</td>\n",
              "      <td>443.0</td>\n",
              "      <td>6.0</td>\n",
              "      <td>05/07/2017 05:44:09</td>\n",
              "      <td>3815335.0</td>\n",
              "      <td>3.0</td>\n",
              "      <td>...</td>\n",
              "      <td>32.0</td>\n",
              "      <td>0.0</td>\n",
              "      <td>0.0</td>\n",
              "      <td>0.0</td>\n",
              "      <td>0.0</td>\n",
              "      <td>0.0</td>\n",
              "      <td>0.0</td>\n",
              "      <td>0.0</td>\n",
              "      <td>0.0</td>\n",
              "      <td>0</td>\n",
              "    </tr>\n",
              "    <tr>\n",
              "      <th>4</th>\n",
              "      <td>129803</td>\n",
              "      <td>10.42.0.211-10.42.0.1-61002-53-17</td>\n",
              "      <td>10.42.0.211</td>\n",
              "      <td>61002.0</td>\n",
              "      <td>10.42.0.1</td>\n",
              "      <td>53.0</td>\n",
              "      <td>17.0</td>\n",
              "      <td>05/08/2017 04:47:07</td>\n",
              "      <td>510550.0</td>\n",
              "      <td>1.0</td>\n",
              "      <td>...</td>\n",
              "      <td>20.0</td>\n",
              "      <td>0.0</td>\n",
              "      <td>0.0</td>\n",
              "      <td>0.0</td>\n",
              "      <td>0.0</td>\n",
              "      <td>0.0</td>\n",
              "      <td>0.0</td>\n",
              "      <td>0.0</td>\n",
              "      <td>0.0</td>\n",
              "      <td>0</td>\n",
              "    </tr>\n",
              "    <tr>\n",
              "      <th>...</th>\n",
              "      <td>...</td>\n",
              "      <td>...</td>\n",
              "      <td>...</td>\n",
              "      <td>...</td>\n",
              "      <td>...</td>\n",
              "      <td>...</td>\n",
              "      <td>...</td>\n",
              "      <td>...</td>\n",
              "      <td>...</td>\n",
              "      <td>...</td>\n",
              "      <td>...</td>\n",
              "      <td>...</td>\n",
              "      <td>...</td>\n",
              "      <td>...</td>\n",
              "      <td>...</td>\n",
              "      <td>...</td>\n",
              "      <td>...</td>\n",
              "      <td>...</td>\n",
              "      <td>...</td>\n",
              "      <td>...</td>\n",
              "      <td>...</td>\n",
              "    </tr>\n",
              "    <tr>\n",
              "      <th>77904</th>\n",
              "      <td>800989</td>\n",
              "      <td>10.42.0.1-10.42.0.42-53-35386-17</td>\n",
              "      <td>10.42.0.42</td>\n",
              "      <td>35386.0</td>\n",
              "      <td>10.42.0.1</td>\n",
              "      <td>53.0</td>\n",
              "      <td>17.0</td>\n",
              "      <td>17/08/2017 11:48:01</td>\n",
              "      <td>49480.0</td>\n",
              "      <td>1.0</td>\n",
              "      <td>...</td>\n",
              "      <td>32.0</td>\n",
              "      <td>0.0</td>\n",
              "      <td>0.0</td>\n",
              "      <td>0.0</td>\n",
              "      <td>0.0</td>\n",
              "      <td>0.0</td>\n",
              "      <td>0.0</td>\n",
              "      <td>0.0</td>\n",
              "      <td>0.0</td>\n",
              "      <td>12</td>\n",
              "    </tr>\n",
              "    <tr>\n",
              "      <th>77905</th>\n",
              "      <td>808707</td>\n",
              "      <td>10.42.0.42-64.71.142.95-45060-443-6</td>\n",
              "      <td>10.42.0.42</td>\n",
              "      <td>45060.0</td>\n",
              "      <td>64.71.142.95</td>\n",
              "      <td>443.0</td>\n",
              "      <td>6.0</td>\n",
              "      <td>17/08/2017 11:48:52</td>\n",
              "      <td>30150466.0</td>\n",
              "      <td>6.0</td>\n",
              "      <td>...</td>\n",
              "      <td>20.0</td>\n",
              "      <td>294812.0</td>\n",
              "      <td>0.0</td>\n",
              "      <td>294812.0</td>\n",
              "      <td>294812.0</td>\n",
              "      <td>29855632.0</td>\n",
              "      <td>0.0</td>\n",
              "      <td>29855632.0</td>\n",
              "      <td>29855632.0</td>\n",
              "      <td>12</td>\n",
              "    </tr>\n",
              "    <tr>\n",
              "      <th>77906</th>\n",
              "      <td>748781</td>\n",
              "      <td>10.42.0.42-104.112.242.202-33285-80-6</td>\n",
              "      <td>10.42.0.42</td>\n",
              "      <td>33285.0</td>\n",
              "      <td>104.112.242.202</td>\n",
              "      <td>80.0</td>\n",
              "      <td>6.0</td>\n",
              "      <td>17/08/2017 11:24:13</td>\n",
              "      <td>100144.0</td>\n",
              "      <td>5.0</td>\n",
              "      <td>...</td>\n",
              "      <td>32.0</td>\n",
              "      <td>0.0</td>\n",
              "      <td>0.0</td>\n",
              "      <td>0.0</td>\n",
              "      <td>0.0</td>\n",
              "      <td>0.0</td>\n",
              "      <td>0.0</td>\n",
              "      <td>0.0</td>\n",
              "      <td>0.0</td>\n",
              "      <td>12</td>\n",
              "    </tr>\n",
              "    <tr>\n",
              "      <th>77907</th>\n",
              "      <td>1119914</td>\n",
              "      <td>172.217.10.138-10.42.0.42-443-58098-6</td>\n",
              "      <td>172.217.10.138</td>\n",
              "      <td>443.0</td>\n",
              "      <td>10.42.0.42</td>\n",
              "      <td>58098.0</td>\n",
              "      <td>6.0</td>\n",
              "      <td>16/08/2017 04:05:51</td>\n",
              "      <td>20.0</td>\n",
              "      <td>2.0</td>\n",
              "      <td>...</td>\n",
              "      <td>32.0</td>\n",
              "      <td>0.0</td>\n",
              "      <td>0.0</td>\n",
              "      <td>0.0</td>\n",
              "      <td>0.0</td>\n",
              "      <td>0.0</td>\n",
              "      <td>0.0</td>\n",
              "      <td>0.0</td>\n",
              "      <td>0.0</td>\n",
              "      <td>12</td>\n",
              "    </tr>\n",
              "    <tr>\n",
              "      <th>77908</th>\n",
              "      <td>1328013</td>\n",
              "      <td>172.217.9.226-10.42.0.42-443-34266-6</td>\n",
              "      <td>10.42.0.42</td>\n",
              "      <td>34266.0</td>\n",
              "      <td>172.217.9.226</td>\n",
              "      <td>443.0</td>\n",
              "      <td>6.0</td>\n",
              "      <td>18/08/2017 11:52:39</td>\n",
              "      <td>5589811.0</td>\n",
              "      <td>18.0</td>\n",
              "      <td>...</td>\n",
              "      <td>32.0</td>\n",
              "      <td>0.0</td>\n",
              "      <td>0.0</td>\n",
              "      <td>0.0</td>\n",
              "      <td>0.0</td>\n",
              "      <td>0.0</td>\n",
              "      <td>0.0</td>\n",
              "      <td>0.0</td>\n",
              "      <td>0.0</td>\n",
              "      <td>12</td>\n",
              "    </tr>\n",
              "  </tbody>\n",
              "</table>\n",
              "<p>77909 rows × 86 columns</p>\n",
              "</div>\n",
              "      <button class=\"colab-df-convert\" onclick=\"convertToInteractive('df-c6b6e9be-b19f-4b3b-aea8-c6734a6e5779')\"\n",
              "              title=\"Convert this dataframe to an interactive table.\"\n",
              "              style=\"display:none;\">\n",
              "        \n",
              "  <svg xmlns=\"http://www.w3.org/2000/svg\" height=\"24px\"viewBox=\"0 0 24 24\"\n",
              "       width=\"24px\">\n",
              "    <path d=\"M0 0h24v24H0V0z\" fill=\"none\"/>\n",
              "    <path d=\"M18.56 5.44l.94 2.06.94-2.06 2.06-.94-2.06-.94-.94-2.06-.94 2.06-2.06.94zm-11 1L8.5 8.5l.94-2.06 2.06-.94-2.06-.94L8.5 2.5l-.94 2.06-2.06.94zm10 10l.94 2.06.94-2.06 2.06-.94-2.06-.94-.94-2.06-.94 2.06-2.06.94z\"/><path d=\"M17.41 7.96l-1.37-1.37c-.4-.4-.92-.59-1.43-.59-.52 0-1.04.2-1.43.59L10.3 9.45l-7.72 7.72c-.78.78-.78 2.05 0 2.83L4 21.41c.39.39.9.59 1.41.59.51 0 1.02-.2 1.41-.59l7.78-7.78 2.81-2.81c.8-.78.8-2.07 0-2.86zM5.41 20L4 18.59l7.72-7.72 1.47 1.35L5.41 20z\"/>\n",
              "  </svg>\n",
              "      </button>\n",
              "      \n",
              "  <style>\n",
              "    .colab-df-container {\n",
              "      display:flex;\n",
              "      flex-wrap:wrap;\n",
              "      gap: 12px;\n",
              "    }\n",
              "\n",
              "    .colab-df-convert {\n",
              "      background-color: #E8F0FE;\n",
              "      border: none;\n",
              "      border-radius: 50%;\n",
              "      cursor: pointer;\n",
              "      display: none;\n",
              "      fill: #1967D2;\n",
              "      height: 32px;\n",
              "      padding: 0 0 0 0;\n",
              "      width: 32px;\n",
              "    }\n",
              "\n",
              "    .colab-df-convert:hover {\n",
              "      background-color: #E2EBFA;\n",
              "      box-shadow: 0px 1px 2px rgba(60, 64, 67, 0.3), 0px 1px 3px 1px rgba(60, 64, 67, 0.15);\n",
              "      fill: #174EA6;\n",
              "    }\n",
              "\n",
              "    [theme=dark] .colab-df-convert {\n",
              "      background-color: #3B4455;\n",
              "      fill: #D2E3FC;\n",
              "    }\n",
              "\n",
              "    [theme=dark] .colab-df-convert:hover {\n",
              "      background-color: #434B5C;\n",
              "      box-shadow: 0px 1px 3px 1px rgba(0, 0, 0, 0.15);\n",
              "      filter: drop-shadow(0px 1px 2px rgba(0, 0, 0, 0.3));\n",
              "      fill: #FFFFFF;\n",
              "    }\n",
              "  </style>\n",
              "\n",
              "      <script>\n",
              "        const buttonEl =\n",
              "          document.querySelector('#df-c6b6e9be-b19f-4b3b-aea8-c6734a6e5779 button.colab-df-convert');\n",
              "        buttonEl.style.display =\n",
              "          google.colab.kernel.accessAllowed ? 'block' : 'none';\n",
              "\n",
              "        async function convertToInteractive(key) {\n",
              "          const element = document.querySelector('#df-c6b6e9be-b19f-4b3b-aea8-c6734a6e5779');\n",
              "          const dataTable =\n",
              "            await google.colab.kernel.invokeFunction('convertToInteractive',\n",
              "                                                     [key], {});\n",
              "          if (!dataTable) return;\n",
              "\n",
              "          const docLinkHtml = 'Like what you see? Visit the ' +\n",
              "            '<a target=\"_blank\" href=https://colab.research.google.com/notebooks/data_table.ipynb>data table notebook</a>'\n",
              "            + ' to learn more about interactive tables.';\n",
              "          element.innerHTML = '';\n",
              "          dataTable['output_type'] = 'display_data';\n",
              "          await google.colab.output.renderOutput(dataTable, element);\n",
              "          const docLink = document.createElement('div');\n",
              "          docLink.innerHTML = docLinkHtml;\n",
              "          element.appendChild(docLink);\n",
              "        }\n",
              "      </script>\n",
              "    </div>\n",
              "  </div>\n",
              "  "
            ]
          },
          "metadata": {},
          "execution_count": 30
        }
      ],
      "source": [
        "import numpy as np \n",
        "import pandas as pd\n",
        "import matplotlib.pyplot as plt\n",
        "import seaborn as sns\n",
        "from sklearn.tree import DecisionTreeClassifier\n",
        "from sklearn.model_selection import train_test_split\n",
        "from sklearn.metrics import confusion_matrix, f1_score, accuracy_score, classification_report\n",
        "from sklearn.feature_selection import VarianceThreshold\n",
        "from sklearn.ensemble import RandomForestClassifier, AdaBoostClassifier\n",
        "from sklearn.model_selection import GridSearchCV \n",
        "from sklearn.feature_selection import RFECV\n",
        "from sklearn.preprocessing import LabelEncoder\n",
        "from xgboost import XGBClassifier\n",
        "from sklearn.naive_bayes import MultinomialNB\n",
        "from sklearn.model_selection import cross_val_score\n",
        "from sklearn.svm import SVC\n",
        "\n",
        "\n",
        "\n",
        "df = pd.read_csv('/content/drive/MyDrive/Colab Notebooks/data_benign_sms_equal.csv')\n",
        "label_encoder = LabelEncoder()\n",
        "df['Label'] = label_encoder.fit_transform(df['Label'])\n",
        "df"
      ]
    },
    {
      "cell_type": "code",
      "source": [
        "X,y = df.drop('Label', axis=1), df.Label\n",
        "X = X.select_dtypes(include='number')\n",
        "X"
      ],
      "metadata": {
        "id": "1rWlhC1jCznM",
        "colab": {
          "base_uri": "https://localhost:8080/",
          "height": 540
        },
        "outputId": "d0a84b3b-eaa4-49d5-bcd0-3d75c37926aa"
      },
      "execution_count": null,
      "outputs": [
        {
          "output_type": "execute_result",
          "data": {
            "text/plain": [
              "       Unnamed: 0  Source Port  Destination Port  Protocol  Flow Duration  \\\n",
              "0            3220      48687.0             443.0       6.0      4699333.0   \n",
              "1         1052120      53777.0             443.0       6.0     30602670.0   \n",
              "2         1299883      54369.0             443.0       6.0     11036953.0   \n",
              "3          717454      53259.0             443.0       6.0      3815335.0   \n",
              "4          129803      61002.0              53.0      17.0       510550.0   \n",
              "...           ...          ...               ...       ...            ...   \n",
              "77904      800989      35386.0              53.0      17.0        49480.0   \n",
              "77905      808707      45060.0             443.0       6.0     30150466.0   \n",
              "77906      748781      33285.0              80.0       6.0       100144.0   \n",
              "77907     1119914        443.0           58098.0       6.0           20.0   \n",
              "77908     1328013      34266.0             443.0       6.0      5589811.0   \n",
              "\n",
              "       Total Fwd Packets  Total Backward Packets  Total Length of Fwd Packets  \\\n",
              "0                    3.0                     0.0                          0.0   \n",
              "1                    2.0                     2.0                          0.0   \n",
              "2                   11.0                    14.0                        817.0   \n",
              "3                    3.0                     0.0                          0.0   \n",
              "4                    1.0                     1.0                         34.0   \n",
              "...                  ...                     ...                          ...   \n",
              "77904                1.0                     1.0                         37.0   \n",
              "77905                6.0                     8.0                        328.0   \n",
              "77906                5.0                     4.0                        419.0   \n",
              "77907                2.0                     0.0                         55.0   \n",
              "77908               18.0                    17.0                        888.0   \n",
              "\n",
              "       Total Length of Bwd Packets  Fwd Packet Length Max  ...  \\\n",
              "0                              0.0                    0.0  ...   \n",
              "1                              0.0                    0.0  ...   \n",
              "2                           9903.0                  474.0  ...   \n",
              "3                              0.0                    0.0  ...   \n",
              "4                            126.0                   34.0  ...   \n",
              "...                            ...                    ...  ...   \n",
              "77904                        182.0                   37.0  ...   \n",
              "77905                       3332.0                  202.0  ...   \n",
              "77906                       1673.0                  419.0  ...   \n",
              "77907                          0.0                   55.0  ...   \n",
              "77908                       7941.0                  242.0  ...   \n",
              "\n",
              "       act_data_pkt_fwd  min_seg_size_forward  Active Mean  Active Std  \\\n",
              "0                   0.0                  20.0          0.0         0.0   \n",
              "1                   0.0                  20.0          0.0         0.0   \n",
              "2                   3.0                  32.0     897540.0         0.0   \n",
              "3                   0.0                  32.0          0.0         0.0   \n",
              "4                   0.0                  20.0          0.0         0.0   \n",
              "...                 ...                   ...          ...         ...   \n",
              "77904               0.0                  32.0          0.0         0.0   \n",
              "77905               2.0                  20.0     294812.0         0.0   \n",
              "77906               1.0                  32.0          0.0         0.0   \n",
              "77907               0.0                  32.0          0.0         0.0   \n",
              "77908               8.0                  32.0          0.0         0.0   \n",
              "\n",
              "       Active Max  Active Min   Idle Mean  Idle Std    Idle Max    Idle Min  \n",
              "0             0.0         0.0         0.0       0.0         0.0         0.0  \n",
              "1             0.0         0.0         0.0       0.0         0.0         0.0  \n",
              "2        897540.0    897540.0  10139356.0       0.0  10139356.0  10139356.0  \n",
              "3             0.0         0.0         0.0       0.0         0.0         0.0  \n",
              "4             0.0         0.0         0.0       0.0         0.0         0.0  \n",
              "...           ...         ...         ...       ...         ...         ...  \n",
              "77904         0.0         0.0         0.0       0.0         0.0         0.0  \n",
              "77905    294812.0    294812.0  29855632.0       0.0  29855632.0  29855632.0  \n",
              "77906         0.0         0.0         0.0       0.0         0.0         0.0  \n",
              "77907         0.0         0.0         0.0       0.0         0.0         0.0  \n",
              "77908         0.0         0.0         0.0       0.0         0.0         0.0  \n",
              "\n",
              "[77909 rows x 81 columns]"
            ],
            "text/html": [
              "\n",
              "  <div id=\"df-f5ba0b18-f58c-4d43-9afe-82c742aa599c\">\n",
              "    <div class=\"colab-df-container\">\n",
              "      <div>\n",
              "<style scoped>\n",
              "    .dataframe tbody tr th:only-of-type {\n",
              "        vertical-align: middle;\n",
              "    }\n",
              "\n",
              "    .dataframe tbody tr th {\n",
              "        vertical-align: top;\n",
              "    }\n",
              "\n",
              "    .dataframe thead th {\n",
              "        text-align: right;\n",
              "    }\n",
              "</style>\n",
              "<table border=\"1\" class=\"dataframe\">\n",
              "  <thead>\n",
              "    <tr style=\"text-align: right;\">\n",
              "      <th></th>\n",
              "      <th>Unnamed: 0</th>\n",
              "      <th>Source Port</th>\n",
              "      <th>Destination Port</th>\n",
              "      <th>Protocol</th>\n",
              "      <th>Flow Duration</th>\n",
              "      <th>Total Fwd Packets</th>\n",
              "      <th>Total Backward Packets</th>\n",
              "      <th>Total Length of Fwd Packets</th>\n",
              "      <th>Total Length of Bwd Packets</th>\n",
              "      <th>Fwd Packet Length Max</th>\n",
              "      <th>...</th>\n",
              "      <th>act_data_pkt_fwd</th>\n",
              "      <th>min_seg_size_forward</th>\n",
              "      <th>Active Mean</th>\n",
              "      <th>Active Std</th>\n",
              "      <th>Active Max</th>\n",
              "      <th>Active Min</th>\n",
              "      <th>Idle Mean</th>\n",
              "      <th>Idle Std</th>\n",
              "      <th>Idle Max</th>\n",
              "      <th>Idle Min</th>\n",
              "    </tr>\n",
              "  </thead>\n",
              "  <tbody>\n",
              "    <tr>\n",
              "      <th>0</th>\n",
              "      <td>3220</td>\n",
              "      <td>48687.0</td>\n",
              "      <td>443.0</td>\n",
              "      <td>6.0</td>\n",
              "      <td>4699333.0</td>\n",
              "      <td>3.0</td>\n",
              "      <td>0.0</td>\n",
              "      <td>0.0</td>\n",
              "      <td>0.0</td>\n",
              "      <td>0.0</td>\n",
              "      <td>...</td>\n",
              "      <td>0.0</td>\n",
              "      <td>20.0</td>\n",
              "      <td>0.0</td>\n",
              "      <td>0.0</td>\n",
              "      <td>0.0</td>\n",
              "      <td>0.0</td>\n",
              "      <td>0.0</td>\n",
              "      <td>0.0</td>\n",
              "      <td>0.0</td>\n",
              "      <td>0.0</td>\n",
              "    </tr>\n",
              "    <tr>\n",
              "      <th>1</th>\n",
              "      <td>1052120</td>\n",
              "      <td>53777.0</td>\n",
              "      <td>443.0</td>\n",
              "      <td>6.0</td>\n",
              "      <td>30602670.0</td>\n",
              "      <td>2.0</td>\n",
              "      <td>2.0</td>\n",
              "      <td>0.0</td>\n",
              "      <td>0.0</td>\n",
              "      <td>0.0</td>\n",
              "      <td>...</td>\n",
              "      <td>0.0</td>\n",
              "      <td>20.0</td>\n",
              "      <td>0.0</td>\n",
              "      <td>0.0</td>\n",
              "      <td>0.0</td>\n",
              "      <td>0.0</td>\n",
              "      <td>0.0</td>\n",
              "      <td>0.0</td>\n",
              "      <td>0.0</td>\n",
              "      <td>0.0</td>\n",
              "    </tr>\n",
              "    <tr>\n",
              "      <th>2</th>\n",
              "      <td>1299883</td>\n",
              "      <td>54369.0</td>\n",
              "      <td>443.0</td>\n",
              "      <td>6.0</td>\n",
              "      <td>11036953.0</td>\n",
              "      <td>11.0</td>\n",
              "      <td>14.0</td>\n",
              "      <td>817.0</td>\n",
              "      <td>9903.0</td>\n",
              "      <td>474.0</td>\n",
              "      <td>...</td>\n",
              "      <td>3.0</td>\n",
              "      <td>32.0</td>\n",
              "      <td>897540.0</td>\n",
              "      <td>0.0</td>\n",
              "      <td>897540.0</td>\n",
              "      <td>897540.0</td>\n",
              "      <td>10139356.0</td>\n",
              "      <td>0.0</td>\n",
              "      <td>10139356.0</td>\n",
              "      <td>10139356.0</td>\n",
              "    </tr>\n",
              "    <tr>\n",
              "      <th>3</th>\n",
              "      <td>717454</td>\n",
              "      <td>53259.0</td>\n",
              "      <td>443.0</td>\n",
              "      <td>6.0</td>\n",
              "      <td>3815335.0</td>\n",
              "      <td>3.0</td>\n",
              "      <td>0.0</td>\n",
              "      <td>0.0</td>\n",
              "      <td>0.0</td>\n",
              "      <td>0.0</td>\n",
              "      <td>...</td>\n",
              "      <td>0.0</td>\n",
              "      <td>32.0</td>\n",
              "      <td>0.0</td>\n",
              "      <td>0.0</td>\n",
              "      <td>0.0</td>\n",
              "      <td>0.0</td>\n",
              "      <td>0.0</td>\n",
              "      <td>0.0</td>\n",
              "      <td>0.0</td>\n",
              "      <td>0.0</td>\n",
              "    </tr>\n",
              "    <tr>\n",
              "      <th>4</th>\n",
              "      <td>129803</td>\n",
              "      <td>61002.0</td>\n",
              "      <td>53.0</td>\n",
              "      <td>17.0</td>\n",
              "      <td>510550.0</td>\n",
              "      <td>1.0</td>\n",
              "      <td>1.0</td>\n",
              "      <td>34.0</td>\n",
              "      <td>126.0</td>\n",
              "      <td>34.0</td>\n",
              "      <td>...</td>\n",
              "      <td>0.0</td>\n",
              "      <td>20.0</td>\n",
              "      <td>0.0</td>\n",
              "      <td>0.0</td>\n",
              "      <td>0.0</td>\n",
              "      <td>0.0</td>\n",
              "      <td>0.0</td>\n",
              "      <td>0.0</td>\n",
              "      <td>0.0</td>\n",
              "      <td>0.0</td>\n",
              "    </tr>\n",
              "    <tr>\n",
              "      <th>...</th>\n",
              "      <td>...</td>\n",
              "      <td>...</td>\n",
              "      <td>...</td>\n",
              "      <td>...</td>\n",
              "      <td>...</td>\n",
              "      <td>...</td>\n",
              "      <td>...</td>\n",
              "      <td>...</td>\n",
              "      <td>...</td>\n",
              "      <td>...</td>\n",
              "      <td>...</td>\n",
              "      <td>...</td>\n",
              "      <td>...</td>\n",
              "      <td>...</td>\n",
              "      <td>...</td>\n",
              "      <td>...</td>\n",
              "      <td>...</td>\n",
              "      <td>...</td>\n",
              "      <td>...</td>\n",
              "      <td>...</td>\n",
              "      <td>...</td>\n",
              "    </tr>\n",
              "    <tr>\n",
              "      <th>77904</th>\n",
              "      <td>800989</td>\n",
              "      <td>35386.0</td>\n",
              "      <td>53.0</td>\n",
              "      <td>17.0</td>\n",
              "      <td>49480.0</td>\n",
              "      <td>1.0</td>\n",
              "      <td>1.0</td>\n",
              "      <td>37.0</td>\n",
              "      <td>182.0</td>\n",
              "      <td>37.0</td>\n",
              "      <td>...</td>\n",
              "      <td>0.0</td>\n",
              "      <td>32.0</td>\n",
              "      <td>0.0</td>\n",
              "      <td>0.0</td>\n",
              "      <td>0.0</td>\n",
              "      <td>0.0</td>\n",
              "      <td>0.0</td>\n",
              "      <td>0.0</td>\n",
              "      <td>0.0</td>\n",
              "      <td>0.0</td>\n",
              "    </tr>\n",
              "    <tr>\n",
              "      <th>77905</th>\n",
              "      <td>808707</td>\n",
              "      <td>45060.0</td>\n",
              "      <td>443.0</td>\n",
              "      <td>6.0</td>\n",
              "      <td>30150466.0</td>\n",
              "      <td>6.0</td>\n",
              "      <td>8.0</td>\n",
              "      <td>328.0</td>\n",
              "      <td>3332.0</td>\n",
              "      <td>202.0</td>\n",
              "      <td>...</td>\n",
              "      <td>2.0</td>\n",
              "      <td>20.0</td>\n",
              "      <td>294812.0</td>\n",
              "      <td>0.0</td>\n",
              "      <td>294812.0</td>\n",
              "      <td>294812.0</td>\n",
              "      <td>29855632.0</td>\n",
              "      <td>0.0</td>\n",
              "      <td>29855632.0</td>\n",
              "      <td>29855632.0</td>\n",
              "    </tr>\n",
              "    <tr>\n",
              "      <th>77906</th>\n",
              "      <td>748781</td>\n",
              "      <td>33285.0</td>\n",
              "      <td>80.0</td>\n",
              "      <td>6.0</td>\n",
              "      <td>100144.0</td>\n",
              "      <td>5.0</td>\n",
              "      <td>4.0</td>\n",
              "      <td>419.0</td>\n",
              "      <td>1673.0</td>\n",
              "      <td>419.0</td>\n",
              "      <td>...</td>\n",
              "      <td>1.0</td>\n",
              "      <td>32.0</td>\n",
              "      <td>0.0</td>\n",
              "      <td>0.0</td>\n",
              "      <td>0.0</td>\n",
              "      <td>0.0</td>\n",
              "      <td>0.0</td>\n",
              "      <td>0.0</td>\n",
              "      <td>0.0</td>\n",
              "      <td>0.0</td>\n",
              "    </tr>\n",
              "    <tr>\n",
              "      <th>77907</th>\n",
              "      <td>1119914</td>\n",
              "      <td>443.0</td>\n",
              "      <td>58098.0</td>\n",
              "      <td>6.0</td>\n",
              "      <td>20.0</td>\n",
              "      <td>2.0</td>\n",
              "      <td>0.0</td>\n",
              "      <td>55.0</td>\n",
              "      <td>0.0</td>\n",
              "      <td>55.0</td>\n",
              "      <td>...</td>\n",
              "      <td>0.0</td>\n",
              "      <td>32.0</td>\n",
              "      <td>0.0</td>\n",
              "      <td>0.0</td>\n",
              "      <td>0.0</td>\n",
              "      <td>0.0</td>\n",
              "      <td>0.0</td>\n",
              "      <td>0.0</td>\n",
              "      <td>0.0</td>\n",
              "      <td>0.0</td>\n",
              "    </tr>\n",
              "    <tr>\n",
              "      <th>77908</th>\n",
              "      <td>1328013</td>\n",
              "      <td>34266.0</td>\n",
              "      <td>443.0</td>\n",
              "      <td>6.0</td>\n",
              "      <td>5589811.0</td>\n",
              "      <td>18.0</td>\n",
              "      <td>17.0</td>\n",
              "      <td>888.0</td>\n",
              "      <td>7941.0</td>\n",
              "      <td>242.0</td>\n",
              "      <td>...</td>\n",
              "      <td>8.0</td>\n",
              "      <td>32.0</td>\n",
              "      <td>0.0</td>\n",
              "      <td>0.0</td>\n",
              "      <td>0.0</td>\n",
              "      <td>0.0</td>\n",
              "      <td>0.0</td>\n",
              "      <td>0.0</td>\n",
              "      <td>0.0</td>\n",
              "      <td>0.0</td>\n",
              "    </tr>\n",
              "  </tbody>\n",
              "</table>\n",
              "<p>77909 rows × 81 columns</p>\n",
              "</div>\n",
              "      <button class=\"colab-df-convert\" onclick=\"convertToInteractive('df-f5ba0b18-f58c-4d43-9afe-82c742aa599c')\"\n",
              "              title=\"Convert this dataframe to an interactive table.\"\n",
              "              style=\"display:none;\">\n",
              "        \n",
              "  <svg xmlns=\"http://www.w3.org/2000/svg\" height=\"24px\"viewBox=\"0 0 24 24\"\n",
              "       width=\"24px\">\n",
              "    <path d=\"M0 0h24v24H0V0z\" fill=\"none\"/>\n",
              "    <path d=\"M18.56 5.44l.94 2.06.94-2.06 2.06-.94-2.06-.94-.94-2.06-.94 2.06-2.06.94zm-11 1L8.5 8.5l.94-2.06 2.06-.94-2.06-.94L8.5 2.5l-.94 2.06-2.06.94zm10 10l.94 2.06.94-2.06 2.06-.94-2.06-.94-.94-2.06-.94 2.06-2.06.94z\"/><path d=\"M17.41 7.96l-1.37-1.37c-.4-.4-.92-.59-1.43-.59-.52 0-1.04.2-1.43.59L10.3 9.45l-7.72 7.72c-.78.78-.78 2.05 0 2.83L4 21.41c.39.39.9.59 1.41.59.51 0 1.02-.2 1.41-.59l7.78-7.78 2.81-2.81c.8-.78.8-2.07 0-2.86zM5.41 20L4 18.59l7.72-7.72 1.47 1.35L5.41 20z\"/>\n",
              "  </svg>\n",
              "      </button>\n",
              "      \n",
              "  <style>\n",
              "    .colab-df-container {\n",
              "      display:flex;\n",
              "      flex-wrap:wrap;\n",
              "      gap: 12px;\n",
              "    }\n",
              "\n",
              "    .colab-df-convert {\n",
              "      background-color: #E8F0FE;\n",
              "      border: none;\n",
              "      border-radius: 50%;\n",
              "      cursor: pointer;\n",
              "      display: none;\n",
              "      fill: #1967D2;\n",
              "      height: 32px;\n",
              "      padding: 0 0 0 0;\n",
              "      width: 32px;\n",
              "    }\n",
              "\n",
              "    .colab-df-convert:hover {\n",
              "      background-color: #E2EBFA;\n",
              "      box-shadow: 0px 1px 2px rgba(60, 64, 67, 0.3), 0px 1px 3px 1px rgba(60, 64, 67, 0.15);\n",
              "      fill: #174EA6;\n",
              "    }\n",
              "\n",
              "    [theme=dark] .colab-df-convert {\n",
              "      background-color: #3B4455;\n",
              "      fill: #D2E3FC;\n",
              "    }\n",
              "\n",
              "    [theme=dark] .colab-df-convert:hover {\n",
              "      background-color: #434B5C;\n",
              "      box-shadow: 0px 1px 3px 1px rgba(0, 0, 0, 0.15);\n",
              "      filter: drop-shadow(0px 1px 2px rgba(0, 0, 0, 0.3));\n",
              "      fill: #FFFFFF;\n",
              "    }\n",
              "  </style>\n",
              "\n",
              "      <script>\n",
              "        const buttonEl =\n",
              "          document.querySelector('#df-f5ba0b18-f58c-4d43-9afe-82c742aa599c button.colab-df-convert');\n",
              "        buttonEl.style.display =\n",
              "          google.colab.kernel.accessAllowed ? 'block' : 'none';\n",
              "\n",
              "        async function convertToInteractive(key) {\n",
              "          const element = document.querySelector('#df-f5ba0b18-f58c-4d43-9afe-82c742aa599c');\n",
              "          const dataTable =\n",
              "            await google.colab.kernel.invokeFunction('convertToInteractive',\n",
              "                                                     [key], {});\n",
              "          if (!dataTable) return;\n",
              "\n",
              "          const docLinkHtml = 'Like what you see? Visit the ' +\n",
              "            '<a target=\"_blank\" href=https://colab.research.google.com/notebooks/data_table.ipynb>data table notebook</a>'\n",
              "            + ' to learn more about interactive tables.';\n",
              "          element.innerHTML = '';\n",
              "          dataTable['output_type'] = 'display_data';\n",
              "          await google.colab.output.renderOutput(dataTable, element);\n",
              "          const docLink = document.createElement('div');\n",
              "          docLink.innerHTML = docLinkHtml;\n",
              "          element.appendChild(docLink);\n",
              "        }\n",
              "      </script>\n",
              "    </div>\n",
              "  </div>\n",
              "  "
            ]
          },
          "metadata": {},
          "execution_count": 2
        }
      ]
    },
    {
      "cell_type": "code",
      "source": [
        "normalized_df = X / X.mean()\n",
        "\n",
        "vt = VarianceThreshold(threshold=0.003)\n",
        "_ = vt.fit(normalized_df)\n",
        "\n",
        "mask = vt.get_support()\n",
        "\n",
        "X_reduced = X.loc[:, mask]\n",
        "X_reduced.shape"
      ],
      "metadata": {
        "colab": {
          "base_uri": "https://localhost:8080/"
        },
        "id": "S-76EKK4lACP",
        "outputId": "49da79fe-36d1-4915-9981-0ef29bf0e8be"
      },
      "execution_count": null,
      "outputs": [
        {
          "output_type": "stream",
          "name": "stderr",
          "text": [
            "/usr/local/lib/python3.8/dist-packages/sklearn/feature_selection/_variance_threshold.py:104: RuntimeWarning: Degrees of freedom <= 0 for slice.\n",
            "  self.variances_ = np.nanvar(X, axis=0)\n"
          ]
        },
        {
          "output_type": "execute_result",
          "data": {
            "text/plain": [
              "(77909, 69)"
            ]
          },
          "metadata": {},
          "execution_count": 3
        }
      ]
    },
    {
      "cell_type": "code",
      "source": [
        "def identify_correlated(df, threshold):\n",
        "    \"\"\"\n",
        "    A function to identify highly correlated features.\n",
        "    \"\"\"\n",
        "    # Compute correlation matrix with absolute values\n",
        "    matrix = df.corr().abs()\n",
        "\n",
        "    # Create a boolean mask\n",
        "    mask = np.triu(np.ones_like(matrix, dtype=bool))\n",
        "\n",
        "    # Subset the matrix\n",
        "    reduced_matrix = matrix.mask(mask)\n",
        "\n",
        "    # Find cols that meet the threshold\n",
        "    to_drop = [c for c in reduced_matrix.columns if any(reduced_matrix[c] > threshold)]\n",
        "\n",
        "    return to_drop"
      ],
      "metadata": {
        "id": "F2quWo9VJ2kS"
      },
      "execution_count": null,
      "outputs": []
    },
    {
      "cell_type": "code",
      "source": [
        "to_drop = identify_correlated(X_reduced, threshold=0.9)\n",
        "X_reduced.drop(to_drop, axis=1, inplace=True)\n",
        "\n",
        "rfecv = RFECV(\n",
        "    estimator=DecisionTreeClassifier(),\n",
        "    scoring=\"r2\",\n",
        "    cv=3,\n",
        "    n_jobs=-1,\n",
        "    min_features_to_select=5,\n",
        "    step=5,\n",
        ")\n",
        "\n",
        "print(X_reduced.shape)\n",
        "_ = rfecv.fit(X_reduced, y)\n",
        "mask = rfecv.support_\n",
        "\n",
        "X_final = X_reduced.loc[:, mask].copy()"
      ],
      "metadata": {
        "colab": {
          "base_uri": "https://localhost:8080/"
        },
        "id": "5l9XhGCsoZPO",
        "outputId": "e0de7557-922e-47f7-b388-784adf4acae0"
      },
      "execution_count": null,
      "outputs": [
        {
          "output_type": "stream",
          "name": "stdout",
          "text": [
            "(77909, 40)\n"
          ]
        },
        {
          "output_type": "stream",
          "name": "stderr",
          "text": [
            "/usr/local/lib/python3.8/dist-packages/pandas/core/frame.py:4906: SettingWithCopyWarning: \n",
            "A value is trying to be set on a copy of a slice from a DataFrame\n",
            "\n",
            "See the caveats in the documentation: https://pandas.pydata.org/pandas-docs/stable/user_guide/indexing.html#returning-a-view-versus-a-copy\n",
            "  return super().drop(\n"
          ]
        }
      ]
    },
    {
      "cell_type": "code",
      "source": [
        "X_train, X_test, y_train, y_test = train_test_split(\n",
        "    X_final, y, test_size=0.3)"
      ],
      "metadata": {
        "id": "4zVr_SmD2nLc"
      },
      "execution_count": null,
      "outputs": []
    },
    {
      "cell_type": "code",
      "source": [
        "# Decision Tree Classifier\n",
        "modelTree = DecisionTreeClassifier()\n",
        "modelTree.fit(X_train, y_train)"
      ],
      "metadata": {
        "colab": {
          "base_uri": "https://localhost:8080/"
        },
        "id": "cYlXr5XCrVJt",
        "outputId": "99df915b-425b-4e13-a954-182ff595ef3c"
      },
      "execution_count": null,
      "outputs": [
        {
          "output_type": "execute_result",
          "data": {
            "text/plain": [
              "DecisionTreeClassifier()"
            ]
          },
          "metadata": {},
          "execution_count": 7
        }
      ]
    },
    {
      "cell_type": "code",
      "source": [
        "y_pred = modelTree.predict(X_test)\n",
        "confusion_matrix(y_test, y_pred)"
      ],
      "metadata": {
        "colab": {
          "base_uri": "https://localhost:8080/"
        },
        "id": "bqxOkXMgr4Yz",
        "outputId": "707cfb23-ca2c-41ed-adde-1cc79557d68f"
      },
      "execution_count": null,
      "outputs": [
        {
          "output_type": "execute_result",
          "data": {
            "text/plain": [
              "array([[ 223,   87,  135,  208,  144,  136,  130,  104,  113,  154,  139,\n",
              "         124,  116],\n",
              "       [  76, 1123,   58,   76,  112,   81,   63,   48,   29,   67,   52,\n",
              "          68,   27],\n",
              "       [ 120,   57,  285,  112,   80,   78,  325,  308,   66,   70,  111,\n",
              "         121,   48],\n",
              "       [ 166,  106,  125,  300,  132,  132,  140,  143,   94,  138,  121,\n",
              "         131,   76],\n",
              "       [ 128,   91,   98,  130,  339,  164,  424,   87,   77,  112,   58,\n",
              "          63,   53],\n",
              "       [  98,   82,   86,  119,  143,  530,  109,  303,   41,  108,   69,\n",
              "          60,   36],\n",
              "       [ 106,   64,  355,   94,  388,   93,  212,   82,   62,  101,  100,\n",
              "          83,   32],\n",
              "       [ 104,   46,  318,   87,   79,  305,   91,  445,   43,   72,   85,\n",
              "          83,   32],\n",
              "       [ 129,   40,   52,   81,   60,   50,   62,   35,  717,  121,   54,\n",
              "          53,  314],\n",
              "       [ 157,   79,   88,  147,   94,   94,   96,   82,  126,  451,  139,\n",
              "         130,  102],\n",
              "       [ 144,   75,  142,  111,   88,   80,  102,   95,   69,  110,  399,\n",
              "         307,   70],\n",
              "       [ 137,   51,  158,  144,   53,   55,  101,   99,   60,  102,  306,\n",
              "         456,   62],\n",
              "       [  92,   44,   47,   80,   49,   27,   57,   33,  306,  108,   60,\n",
              "          48,  845]])"
            ]
          },
          "metadata": {},
          "execution_count": 8
        }
      ]
    },
    {
      "cell_type": "code",
      "source": [
        "df_f1 = f1_score(y_test, y_pred, average='macro')\n",
        "df_f1"
      ],
      "metadata": {
        "colab": {
          "base_uri": "https://localhost:8080/"
        },
        "id": "NWDfM4BvsHK0",
        "outputId": "7b2034b3-ac12-4f8d-ac35-a9e1108e21a8"
      },
      "execution_count": null,
      "outputs": [
        {
          "output_type": "execute_result",
          "data": {
            "text/plain": [
              "0.26903087505695766"
            ]
          },
          "metadata": {},
          "execution_count": 9
        }
      ]
    },
    {
      "cell_type": "code",
      "source": [
        "dt_accuracy = accuracy_score(y_test, y_pred)\n",
        "dt_accuracy"
      ],
      "metadata": {
        "colab": {
          "base_uri": "https://localhost:8080/"
        },
        "id": "wNg5mRQ8spzC",
        "outputId": "89bc08b2-1fe1-4274-894c-75381d7d26b0"
      },
      "execution_count": null,
      "outputs": [
        {
          "output_type": "execute_result",
          "data": {
            "text/plain": [
              "0.27061138920977196"
            ]
          },
          "metadata": {},
          "execution_count": 10
        }
      ]
    },
    {
      "cell_type": "code",
      "source": [
        "print(classification_report(y_test, y_pred))"
      ],
      "metadata": {
        "colab": {
          "base_uri": "https://localhost:8080/"
        },
        "id": "ojCoUxHEtXmF",
        "outputId": "fb190903-efbc-423a-8460-de9d6e5b6c52"
      },
      "execution_count": null,
      "outputs": [
        {
          "output_type": "stream",
          "name": "stdout",
          "text": [
            "              precision    recall  f1-score   support\n",
            "\n",
            "           0       0.13      0.12      0.13      1813\n",
            "           1       0.58      0.60      0.59      1880\n",
            "           2       0.15      0.16      0.15      1781\n",
            "           3       0.18      0.17      0.17      1804\n",
            "           4       0.19      0.19      0.19      1824\n",
            "           5       0.29      0.30      0.29      1784\n",
            "           6       0.11      0.12      0.12      1772\n",
            "           7       0.24      0.25      0.24      1790\n",
            "           8       0.40      0.41      0.40      1768\n",
            "           9       0.26      0.25      0.26      1785\n",
            "          10       0.24      0.22      0.23      1792\n",
            "          11       0.26      0.26      0.26      1784\n",
            "          12       0.47      0.47      0.47      1796\n",
            "\n",
            "    accuracy                           0.27     23373\n",
            "   macro avg       0.27      0.27      0.27     23373\n",
            "weighted avg       0.27      0.27      0.27     23373\n",
            "\n"
          ]
        }
      ]
    },
    {
      "cell_type": "code",
      "source": [
        "# Random Forest Classifier\n",
        "rf_model = RandomForestClassifier().fit(X_train, y_train)"
      ],
      "metadata": {
        "id": "8GR7nkQOt3Ij"
      },
      "execution_count": null,
      "outputs": []
    },
    {
      "cell_type": "code",
      "source": [
        "y_pred_rf = rf_model.predict(X_test)\n",
        "confusion_matrix(y_test, y_pred_rf)"
      ],
      "metadata": {
        "colab": {
          "base_uri": "https://localhost:8080/"
        },
        "id": "lFJlwG5muMpZ",
        "outputId": "55047894-031a-41b5-bd88-65cea424f93b"
      },
      "execution_count": null,
      "outputs": [
        {
          "output_type": "execute_result",
          "data": {
            "text/plain": [
              "array([[ 258,   99,  117,  168,  136,  184,   96,  138,  105,  166,  140,\n",
              "         134,   72],\n",
              "       [  51, 1356,   44,   35,   75,   85,   41,   43,   21,   42,   26,\n",
              "          31,   30],\n",
              "       [  83,   60,  280,   95,   69,   80,  394,  370,   43,   52,   94,\n",
              "         125,   36],\n",
              "       [ 167,  116,  140,  368,  108,  135,   83,  143,   90,  157,  108,\n",
              "         123,   66],\n",
              "       [ 106,  101,   78,  103,  378,  195,  470,   90,   61,   95,   61,\n",
              "          41,   45],\n",
              "       [  76,  103,   59,   92,  131,  692,   61,  355,   34,   57,   47,\n",
              "          45,   32],\n",
              "       [  90,   82,  452,   78,  486,  102,  165,   64,   42,   66,   55,\n",
              "          66,   24],\n",
              "       [  72,   51,  350,   87,   77,  380,   47,  490,   26,   46,   67,\n",
              "          80,   17],\n",
              "       [  86,   23,   29,   55,   48,   63,   50,   34,  886,  117,   48,\n",
              "          33,  296],\n",
              "       [ 149,   93,   84,  140,  110,  141,   69,   68,  121,  511,  101,\n",
              "         109,   89],\n",
              "       [ 149,   68,  136,  141,   53,   65,   71,  115,   43,  105,  449,\n",
              "         355,   42],\n",
              "       [ 117,   55,  150,  116,   42,   55,   75,  105,   57,   98,  357,\n",
              "         518,   39],\n",
              "       [  72,   36,   37,   73,   40,   40,   27,   37,  408,   80,   57,\n",
              "          25,  864]])"
            ]
          },
          "metadata": {},
          "execution_count": 13
        }
      ]
    },
    {
      "cell_type": "code",
      "source": [
        "rf_accuracy = accuracy_score(y_test, y_pred_rf)\n",
        "rf_accuracy"
      ],
      "metadata": {
        "colab": {
          "base_uri": "https://localhost:8080/"
        },
        "id": "F-Wfr9eKujKB",
        "outputId": "55546d17-182c-4832-a43f-634ca40e6f0f"
      },
      "execution_count": null,
      "outputs": [
        {
          "output_type": "execute_result",
          "data": {
            "text/plain": [
              "0.30868951354126556"
            ]
          },
          "metadata": {},
          "execution_count": 14
        }
      ]
    },
    {
      "cell_type": "code",
      "source": [
        "rf_f1 = f1_score(y_test, y_pred_rf, average='macro')\n",
        "rf_f1"
      ],
      "metadata": {
        "colab": {
          "base_uri": "https://localhost:8080/"
        },
        "id": "zx_zBKW7usgC",
        "outputId": "5d3af861-ee9e-4054-adce-0d94519cd869"
      },
      "execution_count": null,
      "outputs": [
        {
          "output_type": "execute_result",
          "data": {
            "text/plain": [
              "0.3028742276070772"
            ]
          },
          "metadata": {},
          "execution_count": 15
        }
      ]
    },
    {
      "cell_type": "code",
      "source": [
        "print(classification_report(y_test, y_pred_rf))"
      ],
      "metadata": {
        "colab": {
          "base_uri": "https://localhost:8080/"
        },
        "id": "-RbEKPh8uaFv",
        "outputId": "75a548c8-15d0-4a45-de5d-4d9bc8528f8f"
      },
      "execution_count": null,
      "outputs": [
        {
          "output_type": "stream",
          "name": "stdout",
          "text": [
            "              precision    recall  f1-score   support\n",
            "\n",
            "           0       0.17      0.14      0.16      1813\n",
            "           1       0.60      0.72      0.66      1880\n",
            "           2       0.14      0.16      0.15      1781\n",
            "           3       0.24      0.20      0.22      1804\n",
            "           4       0.22      0.21      0.21      1824\n",
            "           5       0.31      0.39      0.35      1784\n",
            "           6       0.10      0.09      0.10      1772\n",
            "           7       0.24      0.27      0.26      1790\n",
            "           8       0.46      0.50      0.48      1768\n",
            "           9       0.32      0.29      0.30      1785\n",
            "          10       0.28      0.25      0.26      1792\n",
            "          11       0.31      0.29      0.30      1784\n",
            "          12       0.52      0.48      0.50      1796\n",
            "\n",
            "    accuracy                           0.31     23373\n",
            "   macro avg       0.30      0.31      0.30     23373\n",
            "weighted avg       0.30      0.31      0.30     23373\n",
            "\n"
          ]
        }
      ]
    },
    {
      "cell_type": "code",
      "source": [
        "# XGBoost Classifier\n",
        "xgb_classifier = XGBClassifier()\n",
        "xgb_classifier.fit(X_train, y_train)\n",
        "y_pred = xgb_classifier.predict(X_test)"
      ],
      "metadata": {
        "id": "AGgyUunp5Vuo"
      },
      "execution_count": null,
      "outputs": []
    },
    {
      "cell_type": "code",
      "source": [
        "confusion_matrix(y_test, y_pred)"
      ],
      "metadata": {
        "colab": {
          "base_uri": "https://localhost:8080/"
        },
        "id": "1WxYRJ296iMD",
        "outputId": "89c8c021-8901-4a85-de99-65661d359fef"
      },
      "execution_count": null,
      "outputs": [
        {
          "output_type": "execute_result",
          "data": {
            "text/plain": [
              "array([[221,  88, 111,  91,  60, 411,  72, 225, 150,  81,  97, 166,  40],\n",
              "       [116, 563,  68,  37,  64, 419,  71, 165, 103,  60,  53, 117,  44],\n",
              "       [158,  55, 259,  54,  28, 316, 110, 345,  93,  58,  73, 203,  29],\n",
              "       [113, 109, 168, 135,  63, 439,  38, 276,  99,  91,  70, 167,  36],\n",
              "       [140, 124,  62,  46, 161, 582, 147, 243,  79,  56,  52, 101,  31],\n",
              "       [ 30, 210,  90,  70,  77, 827,  18, 301,  27,  25,  36,  65,   8],\n",
              "       [145,  75, 188,  43,  97, 417, 117, 225, 120,  74,  72, 158,  41],\n",
              "       [ 48, 114, 177,  69,  48, 486,  26, 569,  54,  26,  48, 113,  12],\n",
              "       [ 70,  24,  26,  50,  22, 255,  29, 113, 879,  96,  43,  68,  93],\n",
              "       [157,  89,  84,  73,  52, 370,  38, 167, 162, 329, 108, 114,  42],\n",
              "       [133,  68, 189,  59,  18, 266,  50, 225, 109,  99, 213, 333,  30],\n",
              "       [111,  40, 184,  54,  16, 232,  57, 226, 103,  81, 195, 444,  41],\n",
              "       [ 82,  40,  33,  45,  29, 218,  24, 119, 513,  88,  49,  54, 502]])"
            ]
          },
          "metadata": {},
          "execution_count": 18
        }
      ]
    },
    {
      "cell_type": "code",
      "source": [
        "xgb_accuracy = accuracy_score(y_test, y_pred)\n",
        "xgb_accuracy"
      ],
      "metadata": {
        "colab": {
          "base_uri": "https://localhost:8080/"
        },
        "id": "WWMJAuom6ovK",
        "outputId": "64d7b332-e75c-4d28-8f4d-df050676649a"
      },
      "execution_count": null,
      "outputs": [
        {
          "output_type": "execute_result",
          "data": {
            "text/plain": [
              "0.22329183245625295"
            ]
          },
          "metadata": {},
          "execution_count": 19
        }
      ]
    },
    {
      "cell_type": "code",
      "source": [
        "xgb_f1 = f1_score(y_test, y_pred, average='macro')\n",
        "xgb_f1"
      ],
      "metadata": {
        "colab": {
          "base_uri": "https://localhost:8080/"
        },
        "id": "1BrEjrrv6yvk",
        "outputId": "3b37a1c3-f09a-4a91-9d06-ab3b59879a5c"
      },
      "execution_count": null,
      "outputs": [
        {
          "output_type": "execute_result",
          "data": {
            "text/plain": [
              "0.21290406768276174"
            ]
          },
          "metadata": {},
          "execution_count": 20
        }
      ]
    },
    {
      "cell_type": "code",
      "source": [
        "print(classification_report(y_test, y_pred))"
      ],
      "metadata": {
        "colab": {
          "base_uri": "https://localhost:8080/"
        },
        "id": "llccJrSu68qP",
        "outputId": "4ddea881-f436-423c-d228-e052f3fd389c"
      },
      "execution_count": null,
      "outputs": [
        {
          "output_type": "stream",
          "name": "stdout",
          "text": [
            "              precision    recall  f1-score   support\n",
            "\n",
            "           0       0.15      0.12      0.13      1813\n",
            "           1       0.35      0.30      0.32      1880\n",
            "           2       0.16      0.15      0.15      1781\n",
            "           3       0.16      0.07      0.10      1804\n",
            "           4       0.22      0.09      0.13      1824\n",
            "           5       0.16      0.46      0.24      1784\n",
            "           6       0.15      0.07      0.09      1772\n",
            "           7       0.18      0.32      0.23      1790\n",
            "           8       0.35      0.50      0.41      1768\n",
            "           9       0.28      0.18      0.22      1785\n",
            "          10       0.19      0.12      0.15      1792\n",
            "          11       0.21      0.25      0.23      1784\n",
            "          12       0.53      0.28      0.37      1796\n",
            "\n",
            "    accuracy                           0.22     23373\n",
            "   macro avg       0.24      0.22      0.21     23373\n",
            "weighted avg       0.24      0.22      0.21     23373\n",
            "\n"
          ]
        }
      ]
    },
    {
      "cell_type": "code",
      "source": [
        "# Naïve Bayes Classifier\n",
        "model = MultinomialNB()\n",
        "model.fit(X_train.abs(), y_train)"
      ],
      "metadata": {
        "colab": {
          "base_uri": "https://localhost:8080/"
        },
        "id": "f11HWDTU7DV_",
        "outputId": "45c9d23e-20fb-49e0-b6a4-98409aa1a9b6"
      },
      "execution_count": null,
      "outputs": [
        {
          "output_type": "execute_result",
          "data": {
            "text/plain": [
              "MultinomialNB()"
            ]
          },
          "metadata": {},
          "execution_count": 22
        }
      ]
    },
    {
      "cell_type": "code",
      "source": [
        "y_pred = model.predict(X_test)\n",
        "confusion_matrix(y_test, y_pred)"
      ],
      "metadata": {
        "colab": {
          "base_uri": "https://localhost:8080/"
        },
        "id": "oPNvL7X18a7z",
        "outputId": "fbee4157-bc4e-4820-aedf-6de17e4266c4"
      },
      "execution_count": null,
      "outputs": [
        {
          "output_type": "execute_result",
          "data": {
            "text/plain": [
              "array([[  66,  202,    3,   40,    0,    2,    0,    0,   53,    4,   27,\n",
              "         192, 1224],\n",
              "       [  90,  293,    2,   34,    0,    3,    0,    2,   60,    3,   14,\n",
              "         218, 1161],\n",
              "       [  73,  161,    5,   31,    0,    1,    0,    4,   57,    3,   22,\n",
              "         197, 1227],\n",
              "       [  76,  244,    2,   37,    0,    2,    0,    6,   63,    6,   27,\n",
              "         201, 1140],\n",
              "       [  71,  216,    2,   46,    1,    4,    0,    5,   66,    2,   20,\n",
              "         191, 1200],\n",
              "       [ 107,  303,    1,   42,    0,    2,    0,    7,   25,    6,   27,\n",
              "         280,  984],\n",
              "       [  55,  187,    4,   26,    0,    2,    0,    4,   61,    3,   14,\n",
              "         213, 1203],\n",
              "       [ 114,  272,    4,   36,    0,    1,    0,    3,   25,    6,   24,\n",
              "         253, 1052],\n",
              "       [  62,  134,    3,   27,    0,    5,    0,    4,  134,    4,   19,\n",
              "         136, 1240],\n",
              "       [  63,  185,    2,   30,    0,    1,    0,    0,   83,   14,   17,\n",
              "         193, 1197],\n",
              "       [  49,  146,    3,   35,    0,    6,    0,    1,   74,    1,   20,\n",
              "         185, 1272],\n",
              "       [  45,  140,    1,   32,    0,    3,    0,    3,   75,    0,   20,\n",
              "         193, 1272],\n",
              "       [  36,   93,    1,   29,    0,   33,    0,    6,   68,    1,   12,\n",
              "         101, 1416]])"
            ]
          },
          "metadata": {},
          "execution_count": 23
        }
      ]
    },
    {
      "cell_type": "code",
      "source": [
        "nb_f1 = f1_score(y_test, y_pred, average='weighted')\n",
        "nb_f1"
      ],
      "metadata": {
        "colab": {
          "base_uri": "https://localhost:8080/"
        },
        "id": "_3u3cMIs8mds",
        "outputId": "5e004967-c64a-4548-e210-cbe8d2572906"
      },
      "execution_count": null,
      "outputs": [
        {
          "output_type": "execute_result",
          "data": {
            "text/plain": [
              "0.047531113649239204"
            ]
          },
          "metadata": {},
          "execution_count": 24
        }
      ]
    },
    {
      "cell_type": "code",
      "source": [
        "print(classification_report(y_test, y_pred))"
      ],
      "metadata": {
        "colab": {
          "base_uri": "https://localhost:8080/"
        },
        "id": "vZK6NSdW84ZJ",
        "outputId": "1d8952ec-066c-4274-a39f-3f8c79abd122"
      },
      "execution_count": null,
      "outputs": [
        {
          "output_type": "stream",
          "name": "stdout",
          "text": [
            "              precision    recall  f1-score   support\n",
            "\n",
            "           0       0.07      0.04      0.05      1813\n",
            "           1       0.11      0.16      0.13      1880\n",
            "           2       0.15      0.00      0.01      1781\n",
            "           3       0.08      0.02      0.03      1804\n",
            "           4       1.00      0.00      0.00      1824\n",
            "           5       0.03      0.00      0.00      1784\n",
            "           6       0.00      0.00      0.00      1772\n",
            "           7       0.07      0.00      0.00      1790\n",
            "           8       0.16      0.08      0.10      1768\n",
            "           9       0.26      0.01      0.02      1785\n",
            "          10       0.08      0.01      0.02      1792\n",
            "          11       0.08      0.11      0.09      1784\n",
            "          12       0.09      0.79      0.16      1796\n",
            "\n",
            "    accuracy                           0.09     23373\n",
            "   macro avg       0.17      0.09      0.05     23373\n",
            "weighted avg       0.17      0.09      0.05     23373\n",
            "\n"
          ]
        },
        {
          "output_type": "stream",
          "name": "stderr",
          "text": [
            "/usr/local/lib/python3.8/dist-packages/sklearn/metrics/_classification.py:1318: UndefinedMetricWarning: Precision and F-score are ill-defined and being set to 0.0 in labels with no predicted samples. Use `zero_division` parameter to control this behavior.\n",
            "  _warn_prf(average, modifier, msg_start, len(result))\n",
            "/usr/local/lib/python3.8/dist-packages/sklearn/metrics/_classification.py:1318: UndefinedMetricWarning: Precision and F-score are ill-defined and being set to 0.0 in labels with no predicted samples. Use `zero_division` parameter to control this behavior.\n",
            "  _warn_prf(average, modifier, msg_start, len(result))\n",
            "/usr/local/lib/python3.8/dist-packages/sklearn/metrics/_classification.py:1318: UndefinedMetricWarning: Precision and F-score are ill-defined and being set to 0.0 in labels with no predicted samples. Use `zero_division` parameter to control this behavior.\n",
            "  _warn_prf(average, modifier, msg_start, len(result))\n"
          ]
        }
      ]
    },
    {
      "cell_type": "code",
      "source": [
        "# Support Vector Machines (SVM)\n",
        "\n",
        "svc_model = SVC()\n",
        "svc_model.fit(X_train, y_train)"
      ],
      "metadata": {
        "id": "pr0CUIbO9A4n",
        "colab": {
          "base_uri": "https://localhost:8080/"
        },
        "outputId": "8f18c46a-17e4-4bf5-ac40-1b6448cddbbf"
      },
      "execution_count": null,
      "outputs": [
        {
          "output_type": "execute_result",
          "data": {
            "text/plain": [
              "SVC()"
            ]
          },
          "metadata": {},
          "execution_count": 26
        }
      ]
    },
    {
      "cell_type": "code",
      "source": [
        "y_pred  = svc_model.predict(X_test)\n",
        "confusion_matrix(y_test, y_pred)"
      ],
      "metadata": {
        "id": "g_7WNqjs9gy2",
        "colab": {
          "base_uri": "https://localhost:8080/"
        },
        "outputId": "4cbc0edc-f19f-431f-9ef8-1c55469abac8"
      },
      "execution_count": null,
      "outputs": [
        {
          "output_type": "execute_result",
          "data": {
            "text/plain": [
              "array([[  12,   43,   23,    7,    4,  194,    2,   23,   19,    2,   41,\n",
              "           8, 1435],\n",
              "       [   8,  105,    6,    7,    1,  392,    0,   22,   32,    0,   38,\n",
              "           0, 1269],\n",
              "       [   3,   77,   18,    5,    6,  149,    0,   23,   16,    3,   40,\n",
              "           4, 1437],\n",
              "       [   5,   65,   19,    9,    2,  239,    0,   32,   33,    2,   35,\n",
              "          12, 1351],\n",
              "       [   5,  102,    7,    7,    1,  302,    0,   34,   18,    0,   35,\n",
              "           6, 1307],\n",
              "       [  15,   98,   13,   10,    5,  406,    0,   24,   10,    0,   20,\n",
              "           5, 1178],\n",
              "       [   6,   77,   16,   12,    6,  212,    0,   29,   19,    1,   41,\n",
              "           6, 1347],\n",
              "       [   9,   82,   36,    4,    2,  251,    0,   41,   19,    2,   51,\n",
              "           4, 1289],\n",
              "       [   4,   43,    6,    4,    2,  152,    0,   43,  112,    2,   26,\n",
              "          10, 1364],\n",
              "       [  10,   55,    6,    6,    1,  246,    0,   23,   46,    6,   44,\n",
              "          10, 1332],\n",
              "       [   8,   65,   26,    2,    1,  133,    0,   12,   28,    0,   28,\n",
              "          14, 1475],\n",
              "       [   7,   67,   24,    3,    2,  119,    0,   31,   33,    0,   36,\n",
              "          13, 1449],\n",
              "       [   6,   31,    7,    5,    1,   67,    0,   32,   40,    0,   28,\n",
              "          16, 1563]])"
            ]
          },
          "metadata": {},
          "execution_count": 27
        }
      ]
    },
    {
      "cell_type": "code",
      "source": [
        "svm_f1 = f1_score(y_test, y_pred, average='weighted')\n",
        "svm_f1"
      ],
      "metadata": {
        "colab": {
          "base_uri": "https://localhost:8080/"
        },
        "id": "YwGVmDvb_XLw",
        "outputId": "842cddc2-9ab1-4213-e8a0-809d0cb11080"
      },
      "execution_count": null,
      "outputs": [
        {
          "output_type": "execute_result",
          "data": {
            "text/plain": [
              "0.048925934685828204"
            ]
          },
          "metadata": {},
          "execution_count": 28
        }
      ]
    },
    {
      "cell_type": "code",
      "source": [
        "print(classification_report(y_test, y_pred))"
      ],
      "metadata": {
        "colab": {
          "base_uri": "https://localhost:8080/"
        },
        "id": "X8vazuHE_hu3",
        "outputId": "4e61d25a-642c-475f-8e35-10b515c75151"
      },
      "execution_count": null,
      "outputs": [
        {
          "output_type": "stream",
          "name": "stdout",
          "text": [
            "              precision    recall  f1-score   support\n",
            "\n",
            "           0       0.12      0.01      0.01      1813\n",
            "           1       0.12      0.06      0.08      1880\n",
            "           2       0.09      0.01      0.02      1781\n",
            "           3       0.11      0.00      0.01      1804\n",
            "           4       0.03      0.00      0.00      1824\n",
            "           5       0.14      0.23      0.17      1784\n",
            "           6       0.00      0.00      0.00      1772\n",
            "           7       0.11      0.02      0.04      1790\n",
            "           8       0.26      0.06      0.10      1768\n",
            "           9       0.33      0.00      0.01      1785\n",
            "          10       0.06      0.02      0.02      1792\n",
            "          11       0.12      0.01      0.01      1784\n",
            "          12       0.09      0.87      0.16      1796\n",
            "\n",
            "    accuracy                           0.10     23373\n",
            "   macro avg       0.12      0.10      0.05     23373\n",
            "weighted avg       0.12      0.10      0.05     23373\n",
            "\n"
          ]
        }
      ]
    },
    {
      "cell_type": "code",
      "source": [
        "# AdaBoost\n",
        "model = AdaBoostClassifier()\n",
        "model.fit(X_train, y_train)"
      ],
      "metadata": {
        "colab": {
          "base_uri": "https://localhost:8080/"
        },
        "id": "YDAiBhOrAbuI",
        "outputId": "18873263-214f-4147-b800-9d4bcb9453d2"
      },
      "execution_count": null,
      "outputs": [
        {
          "output_type": "execute_result",
          "data": {
            "text/plain": [
              "AdaBoostClassifier()"
            ]
          },
          "metadata": {},
          "execution_count": 31
        }
      ]
    },
    {
      "cell_type": "code",
      "source": [
        "y_pred = model.predict(X_test)\n",
        "confusion_matrix(y_test, y_pred)"
      ],
      "metadata": {
        "colab": {
          "base_uri": "https://localhost:8080/"
        },
        "id": "Q5V-Q1q2DfK8",
        "outputId": "64c6312f-8ba3-47ea-9616-9d79dc18f0c7"
      },
      "execution_count": null,
      "outputs": [
        {
          "output_type": "execute_result",
          "data": {
            "text/plain": [
              "array([[100,  41,  59,  88,  44, 368,  38, 426, 178,  43,  90, 260,  78],\n",
              "       [ 69, 141,  40,  87,  66, 521,  20, 366, 156,  73,  66, 207,  68],\n",
              "       [ 68,  50,  74,  49,  22, 238,  33, 601, 178,  39,  93, 272,  64],\n",
              "       [ 73,  44,  48, 107,  60, 375,  27, 529, 146,  55,  67, 232,  41],\n",
              "       [ 93,  82,  66,  99,  99, 431,  37, 423, 139,  57,  46, 186,  66],\n",
              "       [ 45,  79,  42, 100,  82, 609,   4, 570,  64,  73,  23,  92,   1],\n",
              "       [ 86,  55,  55,  74,  48, 328,  51, 435, 170,  45,  62, 263, 100],\n",
              "       [ 96,  57,  46,  77,  64, 419,  11, 715, 104,  27,  50, 121,   3],\n",
              "       [ 44,  14,  61,  61,  33, 186,  23, 242, 648,  40,  31, 201, 184],\n",
              "       [ 85,  38,  44, 105,  64, 317,  32, 338, 160,  88, 157, 247, 110],\n",
              "       [ 69,  43,  32, 111,  26, 285,  35, 459, 125,  58, 153, 344,  52],\n",
              "       [ 54,  38,  48,  88,  19, 238,  29, 480, 137,  37, 161, 388,  67],\n",
              "       [ 54,  29,  37,  84,  45, 139,  19, 184, 473,  38,  42, 183, 469]])"
            ]
          },
          "metadata": {},
          "execution_count": 32
        }
      ]
    },
    {
      "cell_type": "code",
      "source": [
        "ada_f1 = f1_score(y_test, y_pred, average='weighted')\n",
        "ada_f1"
      ],
      "metadata": {
        "colab": {
          "base_uri": "https://localhost:8080/"
        },
        "id": "zT3pu4E_E8hu",
        "outputId": "b17a3c94-7896-4ced-8093-161d18d0a0b9"
      },
      "execution_count": null,
      "outputs": [
        {
          "output_type": "execute_result",
          "data": {
            "text/plain": [
              "0.13532382505720889"
            ]
          },
          "metadata": {},
          "execution_count": 33
        }
      ]
    },
    {
      "cell_type": "code",
      "source": [
        "print(classification_report(y_test, y_pred))"
      ],
      "metadata": {
        "id": "91Mg6D89FH7o",
        "outputId": "b0a9eb00-f08c-47f7-f10b-5dac40bdcfa4",
        "colab": {
          "base_uri": "https://localhost:8080/"
        }
      },
      "execution_count": null,
      "outputs": [
        {
          "output_type": "stream",
          "name": "stdout",
          "text": [
            "              precision    recall  f1-score   support\n",
            "\n",
            "           0       0.11      0.06      0.07      1813\n",
            "           1       0.20      0.07      0.11      1880\n",
            "           2       0.11      0.04      0.06      1781\n",
            "           3       0.09      0.06      0.07      1804\n",
            "           4       0.15      0.05      0.08      1824\n",
            "           5       0.14      0.34      0.20      1784\n",
            "           6       0.14      0.03      0.05      1772\n",
            "           7       0.12      0.40      0.19      1790\n",
            "           8       0.24      0.37      0.29      1768\n",
            "           9       0.13      0.05      0.07      1785\n",
            "          10       0.15      0.09      0.11      1792\n",
            "          11       0.13      0.22      0.16      1784\n",
            "          12       0.36      0.26      0.30      1796\n",
            "\n",
            "    accuracy                           0.16     23373\n",
            "   macro avg       0.16      0.16      0.14     23373\n",
            "weighted avg       0.16      0.16      0.14     23373\n",
            "\n"
          ]
        }
      ]
    }
  ]
}